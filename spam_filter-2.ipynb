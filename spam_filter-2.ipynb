{
  "nbformat": 4,
  "nbformat_minor": 0,
  "metadata": {
    "colab": {
      "provenance": []
    },
    "kernelspec": {
      "name": "python3",
      "display_name": "Python 3"
    },
    "language_info": {
      "name": "python"
    }
  },
  "cells": [
    {
      "cell_type": "markdown",
      "source": [
        "Привет, будем решать задачу спам-фильтрации с помощью наивного Байесовского Классификатора с kaggle. Для начала подгрузим соответствующие библиотеки, которые могут пригодиться."
      ],
      "metadata": {
        "id": "31Bq4jCDuNSo"
      }
    },
    {
      "cell_type": "code",
      "source": [
        "import pandas as pd\n",
        "import matplotlib.pyplot as plt\n",
        "import numpy as np\n",
        "import nltk\n",
        "nltk.download('punkt_tab')\n",
        "from sklearn.feature_extraction.text import TfidfVectorizer\n",
        "from sklearn.model_selection import train_test_split\n",
        "from torch.utils.data import TensorDataset, DataLoader"
      ],
      "metadata": {
        "colab": {
          "base_uri": "https://localhost:8080/"
        },
        "id": "w7PDMPo2vTeM",
        "outputId": "d6ef180c-d3d0-48fb-e6fe-3cb6336ccc92"
      },
      "execution_count": 257,
      "outputs": [
        {
          "output_type": "stream",
          "name": "stderr",
          "text": [
            "[nltk_data] Downloading package punkt_tab to /root/nltk_data...\n",
            "[nltk_data]   Package punkt_tab is already up-to-date!\n"
          ]
        }
      ]
    },
    {
      "cell_type": "markdown",
      "source": [
        "Теперь подгрузим необходимый нам датасет с kaggle:"
      ],
      "metadata": {
        "id": "5S4arOsAvlNa"
      }
    },
    {
      "cell_type": "code",
      "source": [
        "# Install dependencies as needed:\n",
        "# pip install kagglehub[pandas-datasets]\n",
        "import kagglehub\n",
        "from kagglehub import KaggleDatasetAdapter\n",
        "\n",
        "path = kagglehub.dataset_download(\"uciml/sms-spam-collection-dataset\")\n",
        "\n",
        "print(\"Path to dataset files:\", path)"
      ],
      "metadata": {
        "colab": {
          "base_uri": "https://localhost:8080/"
        },
        "id": "ItfeY-WTwe1I",
        "outputId": "c67f865e-ad23-436a-9f09-256c84179abb"
      },
      "execution_count": 258,
      "outputs": [
        {
          "output_type": "stream",
          "name": "stdout",
          "text": [
            "Using Colab cache for faster access to the 'sms-spam-collection-dataset' dataset.\n",
            "Path to dataset files: /kaggle/input/sms-spam-collection-dataset\n"
          ]
        }
      ]
    },
    {
      "cell_type": "code",
      "source": [
        "df = pd.read_csv(\"/kaggle/input/sms-spam-collection-dataset/spam.csv\", encoding='latin-1')\n",
        "\n",
        "df = df[['v1', 'v2']]"
      ],
      "metadata": {
        "id": "-lu4_GCkw799"
      },
      "execution_count": 259,
      "outputs": []
    },
    {
      "cell_type": "code",
      "source": [
        "def coding_y(y):\n",
        "  return np.where(np.array(y) == 'spam', 1, 0)"
      ],
      "metadata": {
        "id": "LgMm4ZdjUR5Q"
      },
      "execution_count": 260,
      "outputs": []
    },
    {
      "cell_type": "code",
      "source": [
        "y, X = list(df['v1']), list(df['v2'])\n",
        "X_train, X_test, y_train, y_test = train_test_split(X, y, test_size=0.2, random_state=42)\n",
        "y_train = coding_y(y_train)\n",
        "y_test = coding_y(y_test)"
      ],
      "metadata": {
        "id": "hd8LS2VN9gp-"
      },
      "execution_count": 261,
      "outputs": []
    },
    {
      "cell_type": "markdown",
      "source": [
        "Теперь имеет смысл предобработать текст, точнее, cделать следующее:\n",
        "1. Привести все к единому регистру\n",
        "2. Удалить стоп-слова\n",
        "3. Применить лемматизацию (привести все слова к начальной форме)\n",
        "Сначала будем использовать Tfidfvectorizer для того, чтобы закодировать наши слова."
      ],
      "metadata": {
        "id": "CnqdtfXJ-qA-"
      }
    },
    {
      "cell_type": "code",
      "source": [
        "vectorizer = TfidfVectorizer()\n",
        "vectors_train = vectorizer.fit_transform(X_train)\n",
        "vectors_train.shape"
      ],
      "metadata": {
        "colab": {
          "base_uri": "https://localhost:8080/"
        },
        "id": "V3qfSiC__cJb",
        "outputId": "59d5bd12-6e19-40ef-b639-0a1d74bdd73a"
      },
      "execution_count": 262,
      "outputs": [
        {
          "output_type": "execute_result",
          "data": {
            "text/plain": [
              "(4457, 7735)"
            ]
          },
          "metadata": {},
          "execution_count": 262
        }
      ]
    },
    {
      "cell_type": "markdown",
      "source": [
        "Выведем часть слов, за которыми прячутся координаты векторов:"
      ],
      "metadata": {
        "id": "rOe1bmVEKfOq"
      }
    },
    {
      "cell_type": "code",
      "source": [
        "vectorizer.get_feature_names_out()[:1000]"
      ],
      "metadata": {
        "colab": {
          "base_uri": "https://localhost:8080/"
        },
        "collapsed": true,
        "id": "UONp8edEEHyB",
        "outputId": "9d78c0bc-6c4d-4134-db71-8fc38cdf9b16"
      },
      "execution_count": 263,
      "outputs": [
        {
          "output_type": "execute_result",
          "data": {
            "text/plain": [
              "array(['00', '000', '000pes', '008704050406', '0089', '0121',\n",
              "       '01223585236', '0125698789', '02', '0207', '02072069400',\n",
              "       '02073162414', '02085076972', '021', '03', '04', '0430', '05',\n",
              "       '050703', '0578', '06', '07', '07046744435', '07090201529',\n",
              "       '07090298926', '07099833605', '07123456789', '0721072',\n",
              "       '07732584351', '07734396839', '07742676969', '07753741225',\n",
              "       '0776xxxxxxx', '07781482378', '07786200117', '077xxx',\n",
              "       '07801543489', '07808', '07808247860', '07808726822',\n",
              "       '07821230901', '07880867867', '0789xxxxxxx', '07946746291',\n",
              "       '0796xxxxxx', '07973788240', '07xxxxxxxxx', '0800', '08000407165',\n",
              "       '08000776320', '08000839402', '08000930705', '08000938767',\n",
              "       '08001950382', '08002888812', '08002986030', '08002986906',\n",
              "       '08006344447', '0808', '08081263000', '08081560665', '0825', '083',\n",
              "       '0844', '08448350055', '08448714184', '0845', '08450542832',\n",
              "       '08452810071', '08452810073', '08452810075over18', '0870',\n",
              "       '08700435505150p', '08700469649', '08700621170150p', '08701213186',\n",
              "       '08701417012', '08701417012150p', '0870141701216', '08701752560',\n",
              "       '087018728737', '0870241182716', '08702490080', '08702840625',\n",
              "       '08704050406', '08704439680', '08704439680ts', '08706091795',\n",
              "       '0870737910216yrs', '08707500020', '08707509020', '08707808226',\n",
              "       '08708034412', '08708800282', '08709222922', '08709501522', '0871',\n",
              "       '087104711148', '08712101358', '08712103738', '08712300220',\n",
              "       '087123002209am', '08712317606', '08712400200', '08712400602450p',\n",
              "       '08712400603', '08712402050', '08712402779', '08712402902',\n",
              "       '08712402972', '08712404000', '08712405020', '08712405022',\n",
              "       '08712460324', '0871277810710p', '0871277810810', '0871277810910p',\n",
              "       '08714342399', '087147123779am', '08714712379', '08714712412',\n",
              "       '08715203028', '08715203649', '08715203652', '08715203656',\n",
              "       '08715203677', '08715203694', '08715205273', '08715500022',\n",
              "       '08715705022', '08717168528', '0871750', '08717507382',\n",
              "       '08717509990', '08717890890å', '08717895698', '08717898035',\n",
              "       '08718711108', '08718720201', '08718723815', '08718725756',\n",
              "       '08718726270', '087187262701', '08718726970', '08718726971',\n",
              "       '08718726978', '08718727868', '08718727870', '08718730555',\n",
              "       '08718730666', '08718738002', '08718738034', '08719180248',\n",
              "       '08719181503', '08719181513', '08719839835', '08719899217',\n",
              "       '08719899229', '09', '09041940223', '09050000332', '09050000460',\n",
              "       '09050000555', '09050000878', '09050000928', '09050001808',\n",
              "       '09050002311', '09050003091', '09050005321', '09050090044',\n",
              "       '09050280520', '09053750005', '09056242159', '09057039994',\n",
              "       '09058091854', '09058094454', '09058094455', '09058094507',\n",
              "       '09058094565', '09058094583', '09058094597', '09058094599',\n",
              "       '09058095107', '09058095201', '09058097189', '09058098002',\n",
              "       '09058099801', '09061104276', '09061209465', '09061213237',\n",
              "       '09061221061', '09061221066', '09061701461', '09061701851',\n",
              "       '09061701939', '09061702893', '09061743386', '09061743806',\n",
              "       '09061743810', '09061743811', '09061744553', '09061749602',\n",
              "       '09061790121', '09061790126', '09063440451', '09063442151',\n",
              "       '09063458130', '0906346330', '09064011000', '09064012160',\n",
              "       '09064015307', '09064017295', '09064017305', '09064018838',\n",
              "       '09064019014', '09064019788', '09065069120', '09065069154',\n",
              "       '09065174042', '09065394514', '09065394973', '09065989180',\n",
              "       '09066350750', '09066358152', '09066358361', '09066361921',\n",
              "       '09066362206', '09066362220', '09066362231', '09066364311',\n",
              "       '09066364349', '09066364589', '09066368327', '09066368470',\n",
              "       '09066368753', '09066380611', '09066382422', '09066612661',\n",
              "       '09066649731from', '09066660100', '09071512432', '09071512433',\n",
              "       '09071517866', '09090204448', '09094646899', '09095350301',\n",
              "       '09099725823', '09099726429', '09099726481', '09099726553',\n",
              "       '09111030116', '09111032124', '09701213186', '0a', '0quit', '10',\n",
              "       '100', '1000', '1000call', '1000s', '100percent', '100txt', '1030',\n",
              "       '10am', '10k', '10p', '10ppm', '10th', '11', '1120', '113', '1131',\n",
              "       '114', '116', '1172', '118p', '11mths', '11pm', '12', '1205',\n",
              "       '120p', '121', '1225', '123', '125', '1250', '125gift', '128',\n",
              "       '12hours', '12hrs', '12mths', '13', '130', '1327', '139', '14',\n",
              "       '140', '140ppm', '145', '1450', '14tcr', '14thmarch', '15', '150',\n",
              "       '1500', '150p', '150p16', '150pm', '150ppermesssubscription',\n",
              "       '150ppm', '150ppmpobox10183bhamb64xe', '150pw', '151', '153',\n",
              "       '15541', '15pm', '16', '165', '169', '177', '18', '180', '18p',\n",
              "       '18yrs', '195', '1956669', '1b6a5ecef91ff9', '1hr', '1im', '1mega',\n",
              "       '1million', '1pm', '1st', '1st4terms', '1stchoice', '1stone',\n",
              "       '1thing', '1win150ppmx3', '1winaweek', '1winawk', '1x150p', '1yf',\n",
              "       '20', '200', '2000', '2003', '2004', '2005', '2006', '2007',\n",
              "       '200p', '2025050', '20m12aq', '20p', '21', '21870000', '21st',\n",
              "       '22', '220', '220cm2', '2309', '23f', '23g', '24', '24hrs', '24m',\n",
              "       '25', '250', '250k', '255', '25p', '26', '2667', '26th', '27',\n",
              "       '28', '2814032', '28days', '28th', '28thfeb', '29', '2channel',\n",
              "       '2day', '2exit', '2ez', '2find', '2getha', '2geva', '2go', '2gthr',\n",
              "       '2lands', '2marrow', '2moro', '2morow', '2morro', '2morrow',\n",
              "       '2morrowxxxx', '2mro', '2mrw', '2nd', '2nhite', '2nights', '2nite',\n",
              "       '2optout', '2p', '2price', '2rcv', '2stop', '2stoptx', '2stoptxt',\n",
              "       '2u', '2waxsto', '2wks', '2wt', '2wu', '2years', '2yr', '2yrs',\n",
              "       '30', '300', '3000', '300603', '300603t', '300p', '3030', '30apr',\n",
              "       '30ish', '30pm', '30pp', '30th', '31', '3100', '310303', '31p',\n",
              "       '32', '32000', '3230', '326', '33', '330', '350', '3510i', '3650',\n",
              "       '36504', '3680', '373', '3750', '37819', '38', '382', '391784',\n",
              "       '3aj', '3d', '3days', '3g', '3gbp', '3hrs', '3lions', '3lp',\n",
              "       '3miles', '3mins', '3mobile', '3optical', '3pound', '3qxj9', '3rd',\n",
              "       '3ss', '3uz', '3wks', '3xx', '3xå', '40', '400', '400mins', '4041',\n",
              "       '40411', '40533', '40gb', '40mph', '41685', '42049', '4217',\n",
              "       '42478', '42810', '430', '434', '44', '440', '4403ldnw1a7rw18',\n",
              "       '44345', '447797706009', '447801259231', '448712404000',\n",
              "       '449071512431', '45', '450', '450p', '450pw', '45239', '45pm',\n",
              "       '47', '4742', '47per', '48', '4882', '48922', '49', '4a', '4d',\n",
              "       '4eva', '4few', '4fil', '4get', '4give', '4got', '4goten', '4info',\n",
              "       '4msgs', '4mths', '4qf2', '4t', '4th', '4the', '4txt', '4u',\n",
              "       '4utxt', '4ward', '4wrd', '4years', '50', '500', '5000', '50award',\n",
              "       '50ea', '50gbp', '50p', '50perweeksub', '50perwksub',\n",
              "       '50pmmorefrommobile2bremoved', '50rcvd', '50s', '5226', '526',\n",
              "       '528', '530', '54', '542', '545', '5digital', '5free', '5ish',\n",
              "       '5k', '5min', '5mls', '5p', '5pm', '5th', '5wb', '5we', '5wkg',\n",
              "       '600', '6031', '6089', '60p', '61', '61200', '61610', '62220cncl',\n",
              "       '6230', '62468', '62735', '630', '63miles', '65', '650', '66',\n",
              "       '6669', '674', '67441233', '68866', '69101', '69200', '69669',\n",
              "       '69696', '69866', '69876', '69888', '69911', '69969', '69988',\n",
              "       '6days', '6hl', '6hrs', '6ish', '6missed', '6months', '6ph', '6pm',\n",
              "       '6th', '6times', '6wu', '6zf', '700', '7250', '7250i', '730',\n",
              "       '731', '74355', '75', '750', '7548', '75max', '762', '7634',\n",
              "       '7684', '77', '7732584351', '78', '786', '7876150ppm', '79', '7am',\n",
              "       '7cfca1a', '7ish', '7oz', '7pm', '7th', '7ws', '7zs', '80', '800',\n",
              "       '8000930705', '80062', '8007', '80082', '80086', '80122300p',\n",
              "       '80155', '80160', '80182', '8027', '80488', '80608', '8077',\n",
              "       '80878', '81010', '81151', '81303', '81618', '82050',\n",
              "       '820554ad0a1705572711', '82242', '82277', '82468', '83021',\n",
              "       '83039', '83049', '83110', '83222', '83332', '83338', '83355',\n",
              "       '83370', '83383', '83435', '83600', '84', '84025', '84122',\n",
              "       '84128', '84199', '85', '850', '85023', '85069', '85222', '85233',\n",
              "       '85555', '86021', '861', '864233', '86688', '86888', '87021',\n",
              "       '87066', '87070', '87077', '87121', '87131', '8714714', '872',\n",
              "       '87239', '87575', '8800', '88039', '88066', '88088', '88222',\n",
              "       '88600', '88800', '8883', '88877', '88888', '89034', '89080',\n",
              "       '89105', '89123', '89545', '89555', '89693', '89938', '8am',\n",
              "       '8ball', '8lb', '8p', '8pm', '8th', '8wp', '900', '9061100010',\n",
              "       '910', '9153', '9280114', '930', '9307622', '945', '946', '95',\n",
              "       '9755', '9758', '97n7qp', '98321561', '99', '9996', '9ae', '9am',\n",
              "       '9ja', '9pm', '9t', '9th', '9yt', '____', 'a30', 'aa', 'aah',\n",
              "       'aaniye', 'aaooooright', 'aathi', 'ab', 'abbey', 'abeg', 'abel',\n",
              "       'aberdeen', 'abi', 'ability', 'abiola', 'abj', 'able',\n",
              "       'abnormally', 'about', 'aboutas', 'above', 'abroad', 'absolutly',\n",
              "       'abstract', 'abt', 'abta', 'ac', 'academic', 'acc', 'accent',\n",
              "       'accept', 'access', 'accessible', 'accidant', 'accident',\n",
              "       'accidentally', 'accommodation', 'accommodationvouchers',\n",
              "       'accomodate', 'accomodations', 'accordin', 'accordingly',\n",
              "       'account', 'accounting', 'accounts', 'accumulation', 'achan',\n",
              "       'ache', 'achieve', 'acid', 'acknowledgement', 'acnt', 'aco',\n",
              "       'across', 'act', 'acted', 'actin', 'acting', 'action', 'activ8',\n",
              "       'activate', 'active', 'activities', 'actor', 'actual', 'actually',\n",
              "       'ad', 'adam', 'add', 'addamsfa', 'added', 'addicted', 'addie',\n",
              "       'adding', 'address', 'adds', 'adewale', 'adi', 'admin',\n",
              "       'administrator', 'admirer', 'admission', 'admit', 'adore',\n",
              "       'adoring', 'adp', 'adress', 'adrian', 'ads', 'adult', 'adults',\n",
              "       'advance', 'adventure', 'adventuring', 'advice', 'advise',\n",
              "       'advising', 'aeronautics', 'aeroplane', 'afew', 'affair',\n",
              "       'affairs', 'affection', 'affections', 'affidavit', 'afford',\n",
              "       'afghanistan', 'afraid', 'africa', 'african', 'aft', 'after',\n",
              "       'afternon', 'afternoon', 'afternoons', 'afterwards', 'aftr', 'ag',\n",
              "       'again', 'against', 'age', 'age16', 'age23', 'agency', 'agent',\n",
              "       'agents', 'ages', 'agidhane', 'ago', 'agree', 'ah', 'aha', 'ahead',\n",
              "       'ahmad', 'ahold', 'aid', 'aids', 'aig', 'aight', 'ain', 'aint',\n",
              "       'air', 'air1', 'airport', 'airtel', 'aiya', 'aiyah', 'aiyar',\n",
              "       'aiyo', 'ajith', 'ak', 'aka', 'akon', 'al', 'alaikkum',\n",
              "       'alaipayuthe', 'albi', 'album', 'alcohol', 'aldrine', 'alert',\n",
              "       'alerts', 'alex', 'alfie', 'algarve', 'algebra', 'algorithms',\n",
              "       'ali', 'alive', 'all', 'allah', 'allday', 'allo', 'allow',\n",
              "       'allowed', 'almost', 'alone', 'along', 'alot', 'already',\n",
              "       'alright', 'alrite', 'also', 'alter', 'alternative', 'although',\n",
              "       'alto18', 'alwa', 'always', 'alwys', 'am', 'amazing', 'ambitious',\n",
              "       'ambrith', 'american', 'amigos', 'amk', 'amla', 'amma', 'ammae',\n",
              "       'ammo', 'among', 'amore', 'amount', 'amp', 'amplikater', 'amrca',\n",
              "       'amrita', 'amt', 'amused', 'amy', 'an', 'ana', 'analysis', 'and',\n",
              "       'anderson', 'andre', 'andrews', 'andros', 'angels', 'angry',\n",
              "       'animation', 'anjola', 'anna', 'annie', 'annoncement', 'announced',\n",
              "       'announcement', 'annoyin', 'annoying', 'anot', 'another', 'ans',\n",
              "       'ansr', 'answer', 'answered', 'answerin', 'answering', 'answers',\n",
              "       'answr', 'antelope', 'antha', 'anthony', 'anti', 'any', 'anybody',\n",
              "       'anymore', 'anyone', 'anyones', 'anyplaces', 'anythiing',\n",
              "       'anythin', 'anything', 'anytime', 'anyway', 'anyways', 'anywhere',\n",
              "       'apart', 'apartment'], dtype=object)"
            ]
          },
          "metadata": {},
          "execution_count": 263
        }
      ]
    },
    {
      "cell_type": "markdown",
      "source": [
        "Напишем preprocess функцию для нашего векторайзера:"
      ],
      "metadata": {
        "id": "8wdNZwTpNSHb"
      }
    },
    {
      "cell_type": "code",
      "source": [
        "# stop-words, preprocess\n",
        "from nltk.corpus import stopwords\n",
        "from nltk.tokenize import word_tokenize\n",
        "import nltk\n",
        "nltk.download('stopwords')\n",
        "nltk.download('wordnet')\n",
        "nltk.download('punkt')\n",
        "stopWords = set(stopwords.words('english'))\n",
        "wnl = nltk.WordNetLemmatizer()\n",
        "\n",
        "def preproc_nltk(text):\n",
        "  return ' '.join([wnl.lemmatize(word) for word in word_tokenize(text.lower()) if word not in stopWords])\n",
        "st = \"Oh, I think I ve landed Where there are miracles at work,  For the thirst and for the hunger Come the conference of birds\"\n",
        "preproc_nltk(st)"
      ],
      "metadata": {
        "colab": {
          "base_uri": "https://localhost:8080/",
          "height": 137
        },
        "id": "BE5sIZm-NdRZ",
        "outputId": "0399ec4b-e668-42da-d12f-69e7dc4124e3"
      },
      "execution_count": 264,
      "outputs": [
        {
          "output_type": "stream",
          "name": "stderr",
          "text": [
            "[nltk_data] Downloading package stopwords to /root/nltk_data...\n",
            "[nltk_data]   Package stopwords is already up-to-date!\n",
            "[nltk_data] Downloading package wordnet to /root/nltk_data...\n",
            "[nltk_data]   Package wordnet is already up-to-date!\n",
            "[nltk_data] Downloading package punkt to /root/nltk_data...\n",
            "[nltk_data]   Package punkt is already up-to-date!\n"
          ]
        },
        {
          "output_type": "execute_result",
          "data": {
            "text/plain": [
              "'oh , think landed miracle work , thirst hunger come conference bird'"
            ],
            "application/vnd.google.colaboratory.intrinsic+json": {
              "type": "string"
            }
          },
          "metadata": {},
          "execution_count": 264
        }
      ]
    },
    {
      "cell_type": "code",
      "source": [
        "%%time\n",
        "vectorizer = TfidfVectorizer(preprocessor=preproc_nltk)\n",
        "vectors_train = vectorizer.fit_transform(X_train)"
      ],
      "metadata": {
        "colab": {
          "base_uri": "https://localhost:8080/"
        },
        "id": "Dd8BDUv2Ngpv",
        "outputId": "df66d7b5-c092-4842-a948-dee54d1bd1ab"
      },
      "execution_count": 265,
      "outputs": [
        {
          "output_type": "stream",
          "name": "stdout",
          "text": [
            "CPU times: user 1.04 s, sys: 112 µs, total: 1.04 s\n",
            "Wall time: 1.06 s\n"
          ]
        }
      ]
    },
    {
      "cell_type": "markdown",
      "source": [
        "Попробуем сначала решить задачу с помощью лог регрессии, потом используем Naive Bayes, чтобы решить задачу и сравнить два результата"
      ],
      "metadata": {
        "id": "qjH_Z3IPQL_J"
      }
    },
    {
      "cell_type": "code",
      "source": [
        "from sklearn.metrics import accuracy_score\n",
        "from sklearn.linear_model import SGDClassifier"
      ],
      "metadata": {
        "id": "Ny1AQ9H_QokQ"
      },
      "execution_count": 266,
      "outputs": []
    },
    {
      "cell_type": "code",
      "source": [
        "sgd = SGDClassifier(loss='log_loss')\n",
        "sgd.fit(vectors_train, y_train)"
      ],
      "metadata": {
        "colab": {
          "base_uri": "https://localhost:8080/",
          "height": 80
        },
        "id": "0r7cFPCBRCAg",
        "outputId": "8ebe207e-716c-479e-f0bc-68f532e3c7b2"
      },
      "execution_count": 267,
      "outputs": [
        {
          "output_type": "execute_result",
          "data": {
            "text/plain": [
              "SGDClassifier(loss='log_loss')"
            ],
            "text/html": [
              "<style>#sk-container-id-7 {\n",
              "  /* Definition of color scheme common for light and dark mode */\n",
              "  --sklearn-color-text: #000;\n",
              "  --sklearn-color-text-muted: #666;\n",
              "  --sklearn-color-line: gray;\n",
              "  /* Definition of color scheme for unfitted estimators */\n",
              "  --sklearn-color-unfitted-level-0: #fff5e6;\n",
              "  --sklearn-color-unfitted-level-1: #f6e4d2;\n",
              "  --sklearn-color-unfitted-level-2: #ffe0b3;\n",
              "  --sklearn-color-unfitted-level-3: chocolate;\n",
              "  /* Definition of color scheme for fitted estimators */\n",
              "  --sklearn-color-fitted-level-0: #f0f8ff;\n",
              "  --sklearn-color-fitted-level-1: #d4ebff;\n",
              "  --sklearn-color-fitted-level-2: #b3dbfd;\n",
              "  --sklearn-color-fitted-level-3: cornflowerblue;\n",
              "\n",
              "  /* Specific color for light theme */\n",
              "  --sklearn-color-text-on-default-background: var(--sg-text-color, var(--theme-code-foreground, var(--jp-content-font-color1, black)));\n",
              "  --sklearn-color-background: var(--sg-background-color, var(--theme-background, var(--jp-layout-color0, white)));\n",
              "  --sklearn-color-border-box: var(--sg-text-color, var(--theme-code-foreground, var(--jp-content-font-color1, black)));\n",
              "  --sklearn-color-icon: #696969;\n",
              "\n",
              "  @media (prefers-color-scheme: dark) {\n",
              "    /* Redefinition of color scheme for dark theme */\n",
              "    --sklearn-color-text-on-default-background: var(--sg-text-color, var(--theme-code-foreground, var(--jp-content-font-color1, white)));\n",
              "    --sklearn-color-background: var(--sg-background-color, var(--theme-background, var(--jp-layout-color0, #111)));\n",
              "    --sklearn-color-border-box: var(--sg-text-color, var(--theme-code-foreground, var(--jp-content-font-color1, white)));\n",
              "    --sklearn-color-icon: #878787;\n",
              "  }\n",
              "}\n",
              "\n",
              "#sk-container-id-7 {\n",
              "  color: var(--sklearn-color-text);\n",
              "}\n",
              "\n",
              "#sk-container-id-7 pre {\n",
              "  padding: 0;\n",
              "}\n",
              "\n",
              "#sk-container-id-7 input.sk-hidden--visually {\n",
              "  border: 0;\n",
              "  clip: rect(1px 1px 1px 1px);\n",
              "  clip: rect(1px, 1px, 1px, 1px);\n",
              "  height: 1px;\n",
              "  margin: -1px;\n",
              "  overflow: hidden;\n",
              "  padding: 0;\n",
              "  position: absolute;\n",
              "  width: 1px;\n",
              "}\n",
              "\n",
              "#sk-container-id-7 div.sk-dashed-wrapped {\n",
              "  border: 1px dashed var(--sklearn-color-line);\n",
              "  margin: 0 0.4em 0.5em 0.4em;\n",
              "  box-sizing: border-box;\n",
              "  padding-bottom: 0.4em;\n",
              "  background-color: var(--sklearn-color-background);\n",
              "}\n",
              "\n",
              "#sk-container-id-7 div.sk-container {\n",
              "  /* jupyter's `normalize.less` sets `[hidden] { display: none; }`\n",
              "     but bootstrap.min.css set `[hidden] { display: none !important; }`\n",
              "     so we also need the `!important` here to be able to override the\n",
              "     default hidden behavior on the sphinx rendered scikit-learn.org.\n",
              "     See: https://github.com/scikit-learn/scikit-learn/issues/21755 */\n",
              "  display: inline-block !important;\n",
              "  position: relative;\n",
              "}\n",
              "\n",
              "#sk-container-id-7 div.sk-text-repr-fallback {\n",
              "  display: none;\n",
              "}\n",
              "\n",
              "div.sk-parallel-item,\n",
              "div.sk-serial,\n",
              "div.sk-item {\n",
              "  /* draw centered vertical line to link estimators */\n",
              "  background-image: linear-gradient(var(--sklearn-color-text-on-default-background), var(--sklearn-color-text-on-default-background));\n",
              "  background-size: 2px 100%;\n",
              "  background-repeat: no-repeat;\n",
              "  background-position: center center;\n",
              "}\n",
              "\n",
              "/* Parallel-specific style estimator block */\n",
              "\n",
              "#sk-container-id-7 div.sk-parallel-item::after {\n",
              "  content: \"\";\n",
              "  width: 100%;\n",
              "  border-bottom: 2px solid var(--sklearn-color-text-on-default-background);\n",
              "  flex-grow: 1;\n",
              "}\n",
              "\n",
              "#sk-container-id-7 div.sk-parallel {\n",
              "  display: flex;\n",
              "  align-items: stretch;\n",
              "  justify-content: center;\n",
              "  background-color: var(--sklearn-color-background);\n",
              "  position: relative;\n",
              "}\n",
              "\n",
              "#sk-container-id-7 div.sk-parallel-item {\n",
              "  display: flex;\n",
              "  flex-direction: column;\n",
              "}\n",
              "\n",
              "#sk-container-id-7 div.sk-parallel-item:first-child::after {\n",
              "  align-self: flex-end;\n",
              "  width: 50%;\n",
              "}\n",
              "\n",
              "#sk-container-id-7 div.sk-parallel-item:last-child::after {\n",
              "  align-self: flex-start;\n",
              "  width: 50%;\n",
              "}\n",
              "\n",
              "#sk-container-id-7 div.sk-parallel-item:only-child::after {\n",
              "  width: 0;\n",
              "}\n",
              "\n",
              "/* Serial-specific style estimator block */\n",
              "\n",
              "#sk-container-id-7 div.sk-serial {\n",
              "  display: flex;\n",
              "  flex-direction: column;\n",
              "  align-items: center;\n",
              "  background-color: var(--sklearn-color-background);\n",
              "  padding-right: 1em;\n",
              "  padding-left: 1em;\n",
              "}\n",
              "\n",
              "\n",
              "/* Toggleable style: style used for estimator/Pipeline/ColumnTransformer box that is\n",
              "clickable and can be expanded/collapsed.\n",
              "- Pipeline and ColumnTransformer use this feature and define the default style\n",
              "- Estimators will overwrite some part of the style using the `sk-estimator` class\n",
              "*/\n",
              "\n",
              "/* Pipeline and ColumnTransformer style (default) */\n",
              "\n",
              "#sk-container-id-7 div.sk-toggleable {\n",
              "  /* Default theme specific background. It is overwritten whether we have a\n",
              "  specific estimator or a Pipeline/ColumnTransformer */\n",
              "  background-color: var(--sklearn-color-background);\n",
              "}\n",
              "\n",
              "/* Toggleable label */\n",
              "#sk-container-id-7 label.sk-toggleable__label {\n",
              "  cursor: pointer;\n",
              "  display: flex;\n",
              "  width: 100%;\n",
              "  margin-bottom: 0;\n",
              "  padding: 0.5em;\n",
              "  box-sizing: border-box;\n",
              "  text-align: center;\n",
              "  align-items: start;\n",
              "  justify-content: space-between;\n",
              "  gap: 0.5em;\n",
              "}\n",
              "\n",
              "#sk-container-id-7 label.sk-toggleable__label .caption {\n",
              "  font-size: 0.6rem;\n",
              "  font-weight: lighter;\n",
              "  color: var(--sklearn-color-text-muted);\n",
              "}\n",
              "\n",
              "#sk-container-id-7 label.sk-toggleable__label-arrow:before {\n",
              "  /* Arrow on the left of the label */\n",
              "  content: \"▸\";\n",
              "  float: left;\n",
              "  margin-right: 0.25em;\n",
              "  color: var(--sklearn-color-icon);\n",
              "}\n",
              "\n",
              "#sk-container-id-7 label.sk-toggleable__label-arrow:hover:before {\n",
              "  color: var(--sklearn-color-text);\n",
              "}\n",
              "\n",
              "/* Toggleable content - dropdown */\n",
              "\n",
              "#sk-container-id-7 div.sk-toggleable__content {\n",
              "  max-height: 0;\n",
              "  max-width: 0;\n",
              "  overflow: hidden;\n",
              "  text-align: left;\n",
              "  /* unfitted */\n",
              "  background-color: var(--sklearn-color-unfitted-level-0);\n",
              "}\n",
              "\n",
              "#sk-container-id-7 div.sk-toggleable__content.fitted {\n",
              "  /* fitted */\n",
              "  background-color: var(--sklearn-color-fitted-level-0);\n",
              "}\n",
              "\n",
              "#sk-container-id-7 div.sk-toggleable__content pre {\n",
              "  margin: 0.2em;\n",
              "  border-radius: 0.25em;\n",
              "  color: var(--sklearn-color-text);\n",
              "  /* unfitted */\n",
              "  background-color: var(--sklearn-color-unfitted-level-0);\n",
              "}\n",
              "\n",
              "#sk-container-id-7 div.sk-toggleable__content.fitted pre {\n",
              "  /* unfitted */\n",
              "  background-color: var(--sklearn-color-fitted-level-0);\n",
              "}\n",
              "\n",
              "#sk-container-id-7 input.sk-toggleable__control:checked~div.sk-toggleable__content {\n",
              "  /* Expand drop-down */\n",
              "  max-height: 200px;\n",
              "  max-width: 100%;\n",
              "  overflow: auto;\n",
              "}\n",
              "\n",
              "#sk-container-id-7 input.sk-toggleable__control:checked~label.sk-toggleable__label-arrow:before {\n",
              "  content: \"▾\";\n",
              "}\n",
              "\n",
              "/* Pipeline/ColumnTransformer-specific style */\n",
              "\n",
              "#sk-container-id-7 div.sk-label input.sk-toggleable__control:checked~label.sk-toggleable__label {\n",
              "  color: var(--sklearn-color-text);\n",
              "  background-color: var(--sklearn-color-unfitted-level-2);\n",
              "}\n",
              "\n",
              "#sk-container-id-7 div.sk-label.fitted input.sk-toggleable__control:checked~label.sk-toggleable__label {\n",
              "  background-color: var(--sklearn-color-fitted-level-2);\n",
              "}\n",
              "\n",
              "/* Estimator-specific style */\n",
              "\n",
              "/* Colorize estimator box */\n",
              "#sk-container-id-7 div.sk-estimator input.sk-toggleable__control:checked~label.sk-toggleable__label {\n",
              "  /* unfitted */\n",
              "  background-color: var(--sklearn-color-unfitted-level-2);\n",
              "}\n",
              "\n",
              "#sk-container-id-7 div.sk-estimator.fitted input.sk-toggleable__control:checked~label.sk-toggleable__label {\n",
              "  /* fitted */\n",
              "  background-color: var(--sklearn-color-fitted-level-2);\n",
              "}\n",
              "\n",
              "#sk-container-id-7 div.sk-label label.sk-toggleable__label,\n",
              "#sk-container-id-7 div.sk-label label {\n",
              "  /* The background is the default theme color */\n",
              "  color: var(--sklearn-color-text-on-default-background);\n",
              "}\n",
              "\n",
              "/* On hover, darken the color of the background */\n",
              "#sk-container-id-7 div.sk-label:hover label.sk-toggleable__label {\n",
              "  color: var(--sklearn-color-text);\n",
              "  background-color: var(--sklearn-color-unfitted-level-2);\n",
              "}\n",
              "\n",
              "/* Label box, darken color on hover, fitted */\n",
              "#sk-container-id-7 div.sk-label.fitted:hover label.sk-toggleable__label.fitted {\n",
              "  color: var(--sklearn-color-text);\n",
              "  background-color: var(--sklearn-color-fitted-level-2);\n",
              "}\n",
              "\n",
              "/* Estimator label */\n",
              "\n",
              "#sk-container-id-7 div.sk-label label {\n",
              "  font-family: monospace;\n",
              "  font-weight: bold;\n",
              "  display: inline-block;\n",
              "  line-height: 1.2em;\n",
              "}\n",
              "\n",
              "#sk-container-id-7 div.sk-label-container {\n",
              "  text-align: center;\n",
              "}\n",
              "\n",
              "/* Estimator-specific */\n",
              "#sk-container-id-7 div.sk-estimator {\n",
              "  font-family: monospace;\n",
              "  border: 1px dotted var(--sklearn-color-border-box);\n",
              "  border-radius: 0.25em;\n",
              "  box-sizing: border-box;\n",
              "  margin-bottom: 0.5em;\n",
              "  /* unfitted */\n",
              "  background-color: var(--sklearn-color-unfitted-level-0);\n",
              "}\n",
              "\n",
              "#sk-container-id-7 div.sk-estimator.fitted {\n",
              "  /* fitted */\n",
              "  background-color: var(--sklearn-color-fitted-level-0);\n",
              "}\n",
              "\n",
              "/* on hover */\n",
              "#sk-container-id-7 div.sk-estimator:hover {\n",
              "  /* unfitted */\n",
              "  background-color: var(--sklearn-color-unfitted-level-2);\n",
              "}\n",
              "\n",
              "#sk-container-id-7 div.sk-estimator.fitted:hover {\n",
              "  /* fitted */\n",
              "  background-color: var(--sklearn-color-fitted-level-2);\n",
              "}\n",
              "\n",
              "/* Specification for estimator info (e.g. \"i\" and \"?\") */\n",
              "\n",
              "/* Common style for \"i\" and \"?\" */\n",
              "\n",
              ".sk-estimator-doc-link,\n",
              "a:link.sk-estimator-doc-link,\n",
              "a:visited.sk-estimator-doc-link {\n",
              "  float: right;\n",
              "  font-size: smaller;\n",
              "  line-height: 1em;\n",
              "  font-family: monospace;\n",
              "  background-color: var(--sklearn-color-background);\n",
              "  border-radius: 1em;\n",
              "  height: 1em;\n",
              "  width: 1em;\n",
              "  text-decoration: none !important;\n",
              "  margin-left: 0.5em;\n",
              "  text-align: center;\n",
              "  /* unfitted */\n",
              "  border: var(--sklearn-color-unfitted-level-1) 1pt solid;\n",
              "  color: var(--sklearn-color-unfitted-level-1);\n",
              "}\n",
              "\n",
              ".sk-estimator-doc-link.fitted,\n",
              "a:link.sk-estimator-doc-link.fitted,\n",
              "a:visited.sk-estimator-doc-link.fitted {\n",
              "  /* fitted */\n",
              "  border: var(--sklearn-color-fitted-level-1) 1pt solid;\n",
              "  color: var(--sklearn-color-fitted-level-1);\n",
              "}\n",
              "\n",
              "/* On hover */\n",
              "div.sk-estimator:hover .sk-estimator-doc-link:hover,\n",
              ".sk-estimator-doc-link:hover,\n",
              "div.sk-label-container:hover .sk-estimator-doc-link:hover,\n",
              ".sk-estimator-doc-link:hover {\n",
              "  /* unfitted */\n",
              "  background-color: var(--sklearn-color-unfitted-level-3);\n",
              "  color: var(--sklearn-color-background);\n",
              "  text-decoration: none;\n",
              "}\n",
              "\n",
              "div.sk-estimator.fitted:hover .sk-estimator-doc-link.fitted:hover,\n",
              ".sk-estimator-doc-link.fitted:hover,\n",
              "div.sk-label-container:hover .sk-estimator-doc-link.fitted:hover,\n",
              ".sk-estimator-doc-link.fitted:hover {\n",
              "  /* fitted */\n",
              "  background-color: var(--sklearn-color-fitted-level-3);\n",
              "  color: var(--sklearn-color-background);\n",
              "  text-decoration: none;\n",
              "}\n",
              "\n",
              "/* Span, style for the box shown on hovering the info icon */\n",
              ".sk-estimator-doc-link span {\n",
              "  display: none;\n",
              "  z-index: 9999;\n",
              "  position: relative;\n",
              "  font-weight: normal;\n",
              "  right: .2ex;\n",
              "  padding: .5ex;\n",
              "  margin: .5ex;\n",
              "  width: min-content;\n",
              "  min-width: 20ex;\n",
              "  max-width: 50ex;\n",
              "  color: var(--sklearn-color-text);\n",
              "  box-shadow: 2pt 2pt 4pt #999;\n",
              "  /* unfitted */\n",
              "  background: var(--sklearn-color-unfitted-level-0);\n",
              "  border: .5pt solid var(--sklearn-color-unfitted-level-3);\n",
              "}\n",
              "\n",
              ".sk-estimator-doc-link.fitted span {\n",
              "  /* fitted */\n",
              "  background: var(--sklearn-color-fitted-level-0);\n",
              "  border: var(--sklearn-color-fitted-level-3);\n",
              "}\n",
              "\n",
              ".sk-estimator-doc-link:hover span {\n",
              "  display: block;\n",
              "}\n",
              "\n",
              "/* \"?\"-specific style due to the `<a>` HTML tag */\n",
              "\n",
              "#sk-container-id-7 a.estimator_doc_link {\n",
              "  float: right;\n",
              "  font-size: 1rem;\n",
              "  line-height: 1em;\n",
              "  font-family: monospace;\n",
              "  background-color: var(--sklearn-color-background);\n",
              "  border-radius: 1rem;\n",
              "  height: 1rem;\n",
              "  width: 1rem;\n",
              "  text-decoration: none;\n",
              "  /* unfitted */\n",
              "  color: var(--sklearn-color-unfitted-level-1);\n",
              "  border: var(--sklearn-color-unfitted-level-1) 1pt solid;\n",
              "}\n",
              "\n",
              "#sk-container-id-7 a.estimator_doc_link.fitted {\n",
              "  /* fitted */\n",
              "  border: var(--sklearn-color-fitted-level-1) 1pt solid;\n",
              "  color: var(--sklearn-color-fitted-level-1);\n",
              "}\n",
              "\n",
              "/* On hover */\n",
              "#sk-container-id-7 a.estimator_doc_link:hover {\n",
              "  /* unfitted */\n",
              "  background-color: var(--sklearn-color-unfitted-level-3);\n",
              "  color: var(--sklearn-color-background);\n",
              "  text-decoration: none;\n",
              "}\n",
              "\n",
              "#sk-container-id-7 a.estimator_doc_link.fitted:hover {\n",
              "  /* fitted */\n",
              "  background-color: var(--sklearn-color-fitted-level-3);\n",
              "}\n",
              "</style><div id=\"sk-container-id-7\" class=\"sk-top-container\"><div class=\"sk-text-repr-fallback\"><pre>SGDClassifier(loss=&#x27;log_loss&#x27;)</pre><b>In a Jupyter environment, please rerun this cell to show the HTML representation or trust the notebook. <br />On GitHub, the HTML representation is unable to render, please try loading this page with nbviewer.org.</b></div><div class=\"sk-container\" hidden><div class=\"sk-item\"><div class=\"sk-estimator fitted sk-toggleable\"><input class=\"sk-toggleable__control sk-hidden--visually\" id=\"sk-estimator-id-7\" type=\"checkbox\" checked><label for=\"sk-estimator-id-7\" class=\"sk-toggleable__label fitted sk-toggleable__label-arrow\"><div><div>SGDClassifier</div></div><div><a class=\"sk-estimator-doc-link fitted\" rel=\"noreferrer\" target=\"_blank\" href=\"https://scikit-learn.org/1.6/modules/generated/sklearn.linear_model.SGDClassifier.html\">?<span>Documentation for SGDClassifier</span></a><span class=\"sk-estimator-doc-link fitted\">i<span>Fitted</span></span></div></label><div class=\"sk-toggleable__content fitted\"><pre>SGDClassifier(loss=&#x27;log_loss&#x27;)</pre></div> </div></div></div></div>"
            ]
          },
          "metadata": {},
          "execution_count": 267
        }
      ]
    },
    {
      "cell_type": "code",
      "source": [
        "vectors_test = vectorizer.transform(X_test)\n",
        "y_predicted = sgd.predict(vectors_test)\n",
        "accuracy_score(y_predicted, y_test)"
      ],
      "metadata": {
        "colab": {
          "base_uri": "https://localhost:8080/"
        },
        "id": "H_D4ndS2Uyuv",
        "outputId": "03785f9d-cdc8-48e2-9402-deec4e3bcbd2"
      },
      "execution_count": 268,
      "outputs": [
        {
          "output_type": "execute_result",
          "data": {
            "text/plain": [
              "0.9721973094170404"
            ]
          },
          "metadata": {},
          "execution_count": 268
        }
      ]
    },
    {
      "cell_type": "code",
      "source": [
        "np.array(y).shape\n",
        "print(np.sum(coding_y(y)))"
      ],
      "metadata": {
        "colab": {
          "base_uri": "https://localhost:8080/"
        },
        "id": "AvreyTXzVQ1S",
        "outputId": "1d0d61f3-7c9c-4409-b4a2-9148a68fc40f"
      },
      "execution_count": 269,
      "outputs": [
        {
          "output_type": "stream",
          "name": "stdout",
          "text": [
            "747\n"
          ]
        }
      ]
    },
    {
      "cell_type": "markdown",
      "source": [
        "Теперь напишем Naive Bayes, из-за огромного количества признаков будем считать, что распределение каждого признака при фиксированном $y_{i}$ - нормальное, поскольку наблюдать распределение каждого признака не представляется возможным. Также делаем предположение о том, что все признаки независимы в совокупности, поэтому вероятности можем перемножать.\n",
        "$$\n",
        "f(x|\\mu, \\sigma^2) = \\frac{1}{\\sigma\\sqrt{2\\pi}}\\exp(-\\frac{(x - \\mu)^2}{2\\sigma^2})\n",
        "$$"
      ],
      "metadata": {
        "id": "Q64lYCtkVmm8"
      }
    },
    {
      "cell_type": "code",
      "source": [
        "class GaussianDistribution:\n",
        "  def __init__(self, feature):\n",
        "    self.mean = np.mean(feature, axis=0)\n",
        "    self.std = np.std(feature, axis=0) + 1e-6\n",
        "\n",
        "  def logpdf(self, value):\n",
        "     return -np.log(self.std * (2 * np.pi)**0.5) - (value - self.mean)**2 / (2*self.std**2)\n",
        "\n",
        "  def pdf(self, value):\n",
        "    return np.exp(self.logpdf(value))\n"
      ],
      "metadata": {
        "id": "mAiSccZdXFmH"
      },
      "execution_count": 270,
      "outputs": []
    },
    {
      "cell_type": "code",
      "source": [
        "from scipy.special import logsumexp\n",
        "class NaiveBayes():\n",
        "  def fit(self, X, y):\n",
        "    self.unique_labels = np.unique(y)\n",
        "\n",
        "    distributions = [GaussianDistribution for _ in range(X.shape[1])]\n",
        "\n",
        "    self.conditional_feature_distributions = {} # label : [distribution for feature1, ...]\n",
        "    for label in self.unique_labels:\n",
        "      feature_distribution = []\n",
        "      for column_index in range(X.shape[1]):\n",
        "        feature_column = X[y == label, column_index]\n",
        "        fitted_distr = distributions[column_index](feature_column) ### посчитали распределение на обучающей выборке\n",
        "        feature_distribution.append(fitted_distr)\n",
        "      self.conditional_feature_distributions[label] = feature_distribution # Assign the list of distributions to the label\n",
        "\n",
        "    self.prior_label_distribution = {  ## посчитали вероятности каждого класса\n",
        "        i : np.sum(y == i)/y.shape[0] for i in self.unique_labels\n",
        "    }\n",
        "    return self\n",
        "\n",
        "  def predict_log_proba(self, X):\n",
        "    class_log_probas = np.zeros((X.shape[0], self.unique_labels.shape[0]), dtype=float)\n",
        "\n",
        "    for label_idx, label in enumerate(self.unique_labels):\n",
        "      for idx in range(X.shape[1]):\n",
        "        class_log_probas[:, label_idx] += self.conditional_feature_distributions[label][idx].logpdf(X[:, idx])\n",
        "      class_log_probas[:, label_idx] += np.log(self.prior_label_distribution[label]) # Use log of prior probability\n",
        "\n",
        "    # Normalize log probabilities\n",
        "    for idx in range(X.shape[0]):\n",
        "        class_log_probas[idx, :] -= logsumexp(class_log_probas[idx, :])\n",
        "\n",
        "\n",
        "    return class_log_probas\n",
        "  def predict_proba(self, X):\n",
        "    return np.exp(self.predict_log_proba(X))\n",
        "\n",
        "  def predict(self, X):\n",
        "    log_probas = self.predict_log_proba(X)\n",
        "\n",
        "    return np.array([self.unique_labels[idx] for idx in log_probas.argmax(axis=1)])"
      ],
      "metadata": {
        "id": "Kb_FyGCkaHp6"
      },
      "execution_count": 271,
      "outputs": []
    },
    {
      "cell_type": "markdown",
      "source": [
        "Как метрику будем смотреть $F_{1}$ меру и в частности precision и recall. Вспомним, как они вычисляются: $$Precision = \\frac{TP}{TP + FP}$$\n",
        "По сути эта метрика говорит о том, сколько из тех писем, что мы назвали спамом действительно им являются, ведь отправлять письма, которые не являются спамом в спам корзину - не очень хорошо.\n",
        "$$Recall = \\frac{TP}{TP + FN}$$\n",
        "Эта метрика говорит о том, какую часть спама мы вообще покрыли нашими предсказаниями, также будем строить Precision-Recall кривую, чтобы сравнить нашу модель в целом с двумя другиими."
      ],
      "metadata": {
        "id": "6YgNkjllfrSH"
      }
    },
    {
      "cell_type": "markdown",
      "source": [
        "Начнем с главной модели, которую имплементировали в этом ноутбуке - Наивного Байеса."
      ],
      "metadata": {
        "id": "mk0xUEVvhGTn"
      }
    },
    {
      "cell_type": "code",
      "source": [
        "nv_classifier = NaiveBayes()\n",
        "nv_classifier.fit(vectors_train.toarray(), y_train)"
      ],
      "metadata": {
        "colab": {
          "base_uri": "https://localhost:8080/"
        },
        "id": "dkNF5EQihNku",
        "outputId": "b284fc64-f7a8-489d-adf5-83dd8b62b945"
      },
      "execution_count": 272,
      "outputs": [
        {
          "output_type": "execute_result",
          "data": {
            "text/plain": [
              "<__main__.NaiveBayes at 0x7971bd3099d0>"
            ]
          },
          "metadata": {},
          "execution_count": 272
        }
      ]
    },
    {
      "cell_type": "code",
      "source": [
        "from sklearn.metrics import classification_report\n",
        "from sklearn.metrics import PrecisionRecallDisplay\n",
        "from sklearn.metrics import precision_recall_curve\n",
        "import matplotlib.pyplot as plt\n",
        "\n",
        "def metrics(model, X_test, y_true):\n",
        "  y_predicted = model.predict(X_test)\n",
        "  print(classification_report(y_true, y_predicted))\n",
        "  y_score = model.predict_proba(X_test)[:, 1]\n",
        "  precision, recall, thresholds = precision_recall_curve(y_true, y_score)\n",
        "  print(thresholds)\n",
        "  plt.plot(recall, precision)\n",
        "  plt.xlabel('Recall')\n",
        "  plt.ylabel('Precision')\n",
        "  plt.title('Precision-Recall Curve')\n",
        "  plt.show()"
      ],
      "metadata": {
        "id": "XPhEnHZc74pv"
      },
      "execution_count": 273,
      "outputs": []
    },
    {
      "cell_type": "code",
      "source": [
        "metrics(sgd, vectors_test.toarray(), y_test)\n",
        "metrics(nv_classifier, vectors_test.toarray(), y_test)"
      ],
      "metadata": {
        "colab": {
          "base_uri": "https://localhost:8080/",
          "height": 1000
        },
        "id": "Azx53rk78oDE",
        "outputId": "c3d020f3-6b87-4411-8264-56d0942c8847"
      },
      "execution_count": 274,
      "outputs": [
        {
          "output_type": "stream",
          "name": "stdout",
          "text": [
            "              precision    recall  f1-score   support\n",
            "\n",
            "           0       0.97      0.99      0.98       965\n",
            "           1       0.96      0.83      0.89       150\n",
            "\n",
            "    accuracy                           0.97      1115\n",
            "   macro avg       0.97      0.91      0.94      1115\n",
            "weighted avg       0.97      0.97      0.97      1115\n",
            "\n",
            "[0.00176067 0.00198671 0.00282872 ... 0.99074824 0.99198526 0.99732576]\n"
          ]
        },
        {
          "output_type": "display_data",
          "data": {
            "text/plain": [
              "<Figure size 640x480 with 1 Axes>"
            ],
            "image/png": "[encoded data removed]"
          },
          "metadata": {}
        },
        {
          "output_type": "stream",
          "name": "stdout",
          "text": [
            "              precision    recall  f1-score   support\n",
            "\n",
            "           0       0.98      0.89      0.93       965\n",
            "           1       0.56      0.91      0.69       150\n",
            "\n",
            "    accuracy                           0.89      1115\n",
            "   macro avg       0.77      0.90      0.81      1115\n",
            "weighted avg       0.93      0.89      0.90      1115\n",
            "\n",
            "[0. 1.]\n"
          ]
        },
        {
          "output_type": "display_data",
          "data": {
            "text/plain": [
              "<Figure size 640x480 with 1 Axes>"
            ],
            "image/png": "[encoded data removed]"
          },
          "metadata": {}
        }
      ]
    },
    {
      "cell_type": "markdown",
      "source": [
        "Теперь еще посмотрим, как задачу решает нейронная сеть с двумя слоями и функцией активации ReLU между этими двумя слоями"
      ],
      "metadata": {
        "id": "AaTJogxWJo44"
      }
    },
    {
      "cell_type": "code",
      "source": [
        "import torch\n",
        "import torch.nn as nn\n",
        "import torch.nn.functional as F\n",
        "\n",
        "n = vectors_train.shape[1]\n",
        "class spam_filter(nn.Module):\n",
        "  def __init__(self):\n",
        "    super().__init__()\n",
        "\n",
        "    self.layer1 = torch.nn.Linear(in_features=n, out_features=2)\n",
        "    self.layer2 = torch.nn.Linear(2, out_features=1)\n",
        "\n",
        "\n",
        "  def forward (self, x):\n",
        "    x = F.relu(self.layer1(x))\n",
        "    x = F.sigmoid(self.layer2(x))\n",
        "    return x\n",
        "\n",
        "  def fit(self, optimizer, dataloader, criterion, epochs, X_val, Y_val):\n",
        "    log_losses_train = []\n",
        "    log_losses_val = []\n",
        "    for epoch in range(epochs):\n",
        "      size = 0\n",
        "      loss = 0\n",
        "      self.train()\n",
        "      for X_batch, Y_batch in dataloader:\n",
        "        optimizer.zero_grad()\n",
        "\n",
        "        forward_pass = self(X_batch)\n",
        "\n",
        "        log_loss = criterion(forward_pass, Y_batch)\n",
        "        loss += log_loss.item() * Y_batch.shape[0]\n",
        "        log_loss.backward()\n",
        "        optimizer.step()\n",
        "        size += Y_batch.shape[0]\n",
        "      log_losses_train.append(loss / size)\n",
        "      self.eval()\n",
        "      with torch.no_grad():\n",
        "        forward_pass = self(X_val)\n",
        "        log_loss = criterion(forward_pass, Y_val)\n",
        "        log_losses_val.append(log_loss.item())\n",
        "    plt.plot([i for i in range(epochs)], log_losses_train, label=\"train\")\n",
        "    plt.plot([i for i in range(epochs)], log_losses_val, label=\"val\")\n",
        "    plt.xlabel(\"epoch\")\n",
        "    plt.ylabel(\"log loss\")\n",
        "    plt.legend()\n",
        "    plt.show()\n",
        "    return self\n",
        "\n",
        "\n"
      ],
      "metadata": {
        "id": "niMqkqmsKIVc"
      },
      "execution_count": 275,
      "outputs": []
    },
    {
      "cell_type": "markdown",
      "source": [
        "Теперь соберем train/validation datasets для обучения нашей нейронной сети."
      ],
      "metadata": {
        "id": "5x1Km8iyPhx9"
      }
    },
    {
      "cell_type": "code",
      "source": [
        "import torch\n",
        "from sklearn.model_selection import train_test_split\n",
        "from torch.utils.data import TensorDataset, DataLoader\n",
        "\n",
        "X_train_nn, X_val_nn, y_train_nn, y_val_nn = train_test_split(vectors_train, y_train, train_size=0.8, random_state=42)\n",
        "\n",
        "train_dataset = TensorDataset(torch.tensor(X_train_nn.toarray()).float(), torch.tensor(y_train_nn).float().view(-1, 1))\n",
        "val_dataset = TensorDataset(torch.tensor(X_val_nn.toarray()).float(), torch.tensor(y_val_nn).float().view(-1, 1))\n",
        "\n",
        "val_dataloader = DataLoader(val_dataset, shuffle=False, batch_size=16)\n",
        "train_dataloader = DataLoader(train_dataset, shuffle=True, batch_size=16)"
      ],
      "metadata": {
        "id": "F_t2u3v2QEow"
      },
      "execution_count": 276,
      "outputs": []
    },
    {
      "cell_type": "code",
      "source": [
        "nn_spam_filter = spam_filter()\n",
        "optimizer = torch.optim.Adam(nn_spam_filter.parameters(), lr=0.002, betas=(0.5, 0.999))\n",
        "criterion = nn.BCELoss()\n",
        "nn_spam_filter.fit(optimizer, train_dataloader, criterion, 7, torch.tensor(X_val_nn.toarray()).float(), torch.tensor(y_val_nn).view(-1, 1).float())"
      ],
      "metadata": {
        "colab": {
          "base_uri": "https://localhost:8080/",
          "height": 517
        },
        "collapsed": true,
        "id": "BVW7vU0QUxTa",
        "outputId": "5d0bcfc6-2aac-4e35-d947-cc30a5b62ce1"
      },
      "execution_count": 282,
      "outputs": [
        {
          "output_type": "display_data",
          "data": {
            "text/plain": [
              "<Figure size 640x480 with 1 Axes>"
            ],
            "image/png": "[encoded data removed]"
          },
          "metadata": {}
        },
        {
          "output_type": "execute_result",
          "data": {
            "text/plain": [
              "spam_filter(\n",
              "  (layer1): Linear(in_features=7244, out_features=2, bias=True)\n",
              "  (layer2): Linear(in_features=2, out_features=1, bias=True)\n",
              ")"
            ]
          },
          "metadata": {},
          "execution_count": 282
        }
      ]
    },
    {
      "cell_type": "code",
      "source": [
        "with torch.no_grad():\n",
        "  y_predicted = nn_spam_filter(torch.tensor(vectors_test.toarray()).float())\n",
        "  print(classification_report(y_test, np.array(y_predicted > 0.5)))\n",
        "  precision, recall, thresholds = precision_recall_curve(y_test, y_predicted)\n",
        "  plt.plot(recall, precision)\n",
        "  plt.xlabel('Recall')\n",
        "  plt.ylabel('Precision')\n",
        "  plt.title('Precision-Recall Curve')\n",
        "  plt.show()"
      ],
      "metadata": {
        "colab": {
          "base_uri": "https://localhost:8080/",
          "height": 625
        },
        "id": "Q7wlxcOLQNlA",
        "outputId": "d2a9952a-eca5-4e8d-ec8b-7c602419b153"
      },
      "execution_count": 283,
      "outputs": [
        {
          "output_type": "stream",
          "name": "stdout",
          "text": [
            "              precision    recall  f1-score   support\n",
            "\n",
            "           0       0.98      1.00      0.99       965\n",
            "           1       0.97      0.87      0.92       150\n",
            "\n",
            "    accuracy                           0.98      1115\n",
            "   macro avg       0.97      0.93      0.95      1115\n",
            "weighted avg       0.98      0.98      0.98      1115\n",
            "\n"
          ]
        },
        {
          "output_type": "display_data",
          "data": {
            "text/plain": [
              "<Figure size 640x480 with 1 Axes>"
            ],
            "image/png": "[encoded data removed]"
          },
          "metadata": {}
        }
      ]
    }
  ]
}